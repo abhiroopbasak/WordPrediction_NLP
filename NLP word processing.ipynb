{
 "cells": [
  {
   "cell_type": "markdown",
   "metadata": {},
   "source": [
    "## Natural Language Processing\n",
    "\n",
    "The text file \"book.txt\" is used as the dataset and is used to develop a model to understand the story and hence fill up with words auto generated."
   ]
  },
  {
   "cell_type": "markdown",
   "metadata": {},
   "source": [
    "The file is read and the contents are displayed till 200 characters"
   ]
  },
  {
   "cell_type": "code",
   "execution_count": 3,
   "metadata": {},
   "outputs": [
    {
     "name": "stdout",
     "output_type": "stream",
     "text": [
      "BOOK I.\n",
      "\n",
      "I went down yesterday to the Piraeus with Glaucon the son of Ariston,\n",
      "that I might offer up my prayers to the goddess (Bendis, the Thracian\n",
      "Artemis.); and also because I wanted to see in what\n"
     ]
    }
   ],
   "source": [
    "def load_doc(filename):\n",
    "    file = open(filename, 'r')\n",
    "    text = file.read()\n",
    "    file.close()\n",
    "    return text\n",
    "\n",
    "in_filename = 'book.txt'\n",
    "doc = load_doc(in_filename)\n",
    "print(doc[:200])"
   ]
  },
  {
   "cell_type": "markdown",
   "metadata": {},
   "source": [
    "The content is cleaned and is now referred to as \"clean text\". Here all punctionations are removed, all '-' are replaced with spaces and any now alaphabetical word is removed. Along with that the entire dataset is split based on white spaces and hence a linesr list is obtained"
   ]
  },
  {
   "cell_type": "code",
   "execution_count": 8,
   "metadata": {},
   "outputs": [
    {
     "name": "stdout",
     "output_type": "stream",
     "text": [
      "['book', 'i', 'i', 'went', 'down', 'yesterday', 'to', 'the', 'piraeus', 'with', 'glaucon', 'the', 'son', 'of', 'ariston', 'that', 'i', 'might', 'offer', 'up', 'my', 'prayers', 'to', 'the', 'goddess', 'bendis', 'the', 'thracian', 'artemis', 'and', 'also', 'because', 'i', 'wanted', 'to', 'see', 'in', 'what', 'manner', 'they', 'would', 'celebrate', 'the', 'festival', 'which', 'was', 'a', 'new', 'thing', 'i', 'was', 'delighted', 'with', 'the', 'procession', 'of', 'the', 'inhabitants', 'but', 'that', 'of', 'the', 'thracians', 'was', 'equally', 'if', 'not', 'more', 'beautiful', 'when', 'we', 'had', 'finished', 'our', 'prayers', 'and', 'viewed', 'the', 'spectacle', 'we', 'turned', 'in', 'the', 'direction', 'of', 'the', 'city', 'and', 'at', 'that', 'instant', 'polemarchus', 'the', 'son', 'of', 'cephalus', 'chanced', 'to', 'catch', 'sight', 'of', 'us', 'from', 'a', 'distance', 'as', 'we', 'were', 'starting', 'on', 'our', 'way', 'home', 'and', 'told', 'his', 'servant', 'to', 'run', 'and', 'bid', 'us', 'wait', 'for', 'him', 'the', 'servant', 'took', 'hold', 'of', 'me', 'by', 'the', 'cloak', 'behind', 'and', 'said', 'polemarchus', 'desires', 'you', 'to', 'wait', 'i', 'turned', 'round', 'and', 'asked', 'him', 'where', 'his', 'master', 'was', 'there', 'he', 'is', 'said', 'the', 'youth', 'coming', 'after', 'you', 'if', 'you', 'will', 'only', 'wait', 'certainly', 'we', 'will', 'said', 'glaucon', 'and', 'in', 'a', 'few', 'minutes', 'polemarchus', 'appeared', 'and', 'with', 'him', 'adeimantus', 'brother', 'niceratus', 'the', 'son', 'of', 'nicias', 'and', 'several', 'others', 'who', 'had', 'been', 'at', 'the', 'procession', 'polemarchus', 'said', 'to']\n",
      "Total Tokens: 224\n",
      "Unique Tokens: 125\n"
     ]
    }
   ],
   "source": [
    "import string\n",
    "\n",
    "\n",
    "def clean_doc(doc):\n",
    "\n",
    "    doc = doc.replace('--', ' ')\n",
    "    tokens = doc.split()\n",
    "    table = str.maketrans('', '', string.punctuation)\n",
    "    tokens = [w.translate(table) for w in tokens]\n",
    "    tokens = [word for word in tokens if word.isalpha()]\n",
    "    tokens = [word.lower() for word in tokens]\n",
    "    return tokens\n",
    "\n",
    "tokens = clean_doc(doc)\n",
    "print(tokens[:200])\n",
    "print('Total Tokens: %d' % len(tokens))\n",
    "print('Unique Tokens: %d' % len(set(tokens)))"
   ]
  },
  {
   "cell_type": "markdown",
   "metadata": {},
   "source": [
    "The tokens are iterated over a list of 50 input and 1 output and stored in the "
   ]
  },
  {
   "cell_type": "code",
   "execution_count": 9,
   "metadata": {},
   "outputs": [
    {
     "name": "stdout",
     "output_type": "stream",
     "text": [
      "Total Sequences: 173\n"
     ]
    }
   ],
   "source": [
    "length = 50 + 1\n",
    "sequences = list()\n",
    "for i in range(length, len(tokens)):\n",
    "    seq = tokens[i-length:i]\n",
    "    line = ' '.join(seq)\n",
    "    sequences.append(line)\n",
    "print('Total Sequences: %d' % len(sequences))"
   ]
  },
  {
   "cell_type": "code",
   "execution_count": 13,
   "metadata": {},
   "outputs": [],
   "source": [
    "def save_doc(lines, filename):\n",
    "    data = '\\n'.join(lines)\n",
    "    file = open(filename, 'w')\n",
    "    file.write(data)\n",
    "    file.close()\n",
    "    \n",
    "out_filename = 'book_clean.txt'\n",
    "save_doc(sequences, out_filename)"
   ]
  },
  {
   "cell_type": "markdown",
   "metadata": {},
   "source": [
    "### Training the data\n",
    "\n",
    "This shall involve training the NLP model using Embedding Layer to learn the representation of words, and a Long Short-Term Memory (LSTM) recurrent neural network to learn to predict words based on their context.\n",
    "\n",
    "It has a few unique characteristics:\n",
    "\n",
    "* It uses a distributed representation for words so that different words with similar meanings will have a similar representation.\n",
    "* It learns the representation at the same time as learning the model.\n",
    "* It learns to predict the probability for the next word using the context of the last 100 words."
   ]
  },
  {
   "cell_type": "code",
   "execution_count": 14,
   "metadata": {},
   "outputs": [],
   "source": [
    "# load doc into memory\n",
    "def load_doc(filename):\n",
    "\t# open the file as read only\n",
    "\tfile = open(filename, 'r')\n",
    "\t# read all text\n",
    "\ttext = file.read()\n",
    "\t# close the file\n",
    "\tfile.close()\n",
    "\treturn text\n",
    "\n",
    "# load\n",
    "in_filename = 'book_clean.txt'\n",
    "doc = load_doc(in_filename)\n",
    "lines = doc.split('\\n')"
   ]
  },
  {
   "cell_type": "markdown",
   "metadata": {},
   "source": [
    "Each word is associated an integer and the ouput is predicted using this sequence of integers. The Tokenizer class in Keras API is used to do this encoding. The total size of the vocabulary can be a maximum of the total number of words and need to be found out."
   ]
  },
  {
   "cell_type": "code",
   "execution_count": 17,
   "metadata": {},
   "outputs": [],
   "source": [
    "from keras.preprocessing.text import Tokenizer\n",
    "\n",
    "tokenizer = Tokenizer()\n",
    "tokenizer.fit_on_texts(lines)\n",
    "sequences = tokenizer.texts_to_sequences(lines)\n",
    "vocab_size = len(tokenizer.word_index) + 1"
   ]
  },
  {
   "cell_type": "markdown",
   "metadata": {},
   "source": [
    "The keras package is used again to hot encode the words, with 0 for the number of values and  to indicate the specific word at the index of the words integer value. x and y are differentiated as input and output respectively."
   ]
  },
  {
   "cell_type": "code",
   "execution_count": 20,
   "metadata": {},
   "outputs": [],
   "source": [
    "import numpy as np\n",
    "from keras.utils import to_categorical\n",
    "\n",
    "sequences = np.array(sequences)\n",
    "X, y = sequences[:,:-1], sequences[:,-1]\n",
    "y = to_categorical(y, num_classes=vocab_size)\n",
    "seq_length = X.shape[1]"
   ]
  },
  {
   "cell_type": "markdown",
   "metadata": {},
   "source": [
    "### Fit Model\n",
    "\n",
    "The model can now be fit on the training data. The learned embedding needs to know the size of the vocabulary and the length of input sequences as previously discussed. It also has a parameter to specify how many dimensions will be used to represent each word. That is, the size of the embedding vector space.\n",
    "\n",
    "The Long Short Term Memory(LSTM) from keras package is used. 2 LSTM layers with 100 neurons are connected in each and predict the next word."
   ]
  },
  {
   "cell_type": "code",
   "execution_count": 27,
   "metadata": {},
   "outputs": [
    {
     "name": "stdout",
     "output_type": "stream",
     "text": [
      "Model: \"sequential_4\"\n",
      "_________________________________________________________________\n",
      "Layer (type)                 Output Shape              Param #   \n",
      "=================================================================\n",
      "embedding_2 (Embedding)      (None, 50, 50)            6300      \n",
      "_________________________________________________________________\n",
      "lstm_2 (LSTM)                (None, 50, 100)           60400     \n",
      "_________________________________________________________________\n",
      "lstm_3 (LSTM)                (None, 100)               80400     \n",
      "_________________________________________________________________\n",
      "dense (Dense)                (None, 100)               10100     \n",
      "_________________________________________________________________\n",
      "dense_1 (Dense)              (None, 126)               12726     \n",
      "=================================================================\n",
      "Total params: 169,926\n",
      "Trainable params: 169,926\n",
      "Non-trainable params: 0\n",
      "_________________________________________________________________\n",
      "None\n"
     ]
    }
   ],
   "source": [
    "from keras.models import Sequential\n",
    "from keras.layers import Embedding\n",
    "from keras.layers.recurrent import LSTM\n",
    "from keras.layers import Dense\n",
    "\n",
    "model = Sequential()\n",
    "model.add(Embedding(vocab_size, 50, input_length=seq_length))\n",
    "model.add(LSTM(100, return_sequences=True))\n",
    "model.add(LSTM(100))\n",
    "model.add(Dense(100, activation='relu'))\n",
    "model.add(Dense(vocab_size, activation='softmax'))\n",
    "print(model.summary())"
   ]
  },
  {
   "cell_type": "markdown",
   "metadata": {},
   "source": [
    "Finally the model is compiled and saved for use"
   ]
  },
  {
   "cell_type": "code",
   "execution_count": 28,
   "metadata": {},
   "outputs": [
    {
     "name": "stdout",
     "output_type": "stream",
     "text": [
      "Epoch 1/100\n",
      "2/2 [==============================] - 8s 162ms/step - loss: 4.8361 - accuracy: 0.0142\n",
      "Epoch 2/100\n",
      "2/2 [==============================] - 0s 116ms/step - loss: 4.8313 - accuracy: 0.0761\n",
      "Epoch 3/100\n",
      "2/2 [==============================] - 0s 117ms/step - loss: 4.8237 - accuracy: 0.0735\n",
      "Epoch 4/100\n",
      "2/2 [==============================] - 0s 112ms/step - loss: 4.8090 - accuracy: 0.0735\n",
      "Epoch 5/100\n",
      "2/2 [==============================] - 0s 105ms/step - loss: 4.7723 - accuracy: 0.0735\n",
      "Epoch 6/100\n",
      "2/2 [==============================] - 0s 114ms/step - loss: 4.6691 - accuracy: 0.0735\n",
      "Epoch 7/100\n",
      "2/2 [==============================] - 0s 118ms/step - loss: 4.5411 - accuracy: 0.0735\n",
      "Epoch 8/100\n",
      "2/2 [==============================] - 0s 109ms/step - loss: 4.5398 - accuracy: 0.0761\n",
      "Epoch 9/100\n",
      "2/2 [==============================] - 0s 134ms/step - loss: 4.5059 - accuracy: 0.0735\n",
      "Epoch 10/100\n",
      "2/2 [==============================] - 0s 118ms/step - loss: 4.4185 - accuracy: 0.0787\n",
      "Epoch 11/100\n",
      "2/2 [==============================] - 0s 125ms/step - loss: 4.4265 - accuracy: 0.0787\n",
      "Epoch 12/100\n",
      "2/2 [==============================] - 0s 162ms/step - loss: 4.3977 - accuracy: 0.0542\n",
      "Epoch 13/100\n",
      "2/2 [==============================] - 0s 140ms/step - loss: 4.4009 - accuracy: 0.0542\n",
      "Epoch 14/100\n",
      "2/2 [==============================] - 0s 141ms/step - loss: 4.3873 - accuracy: 0.0542\n",
      "Epoch 15/100\n",
      "2/2 [==============================] - 0s 118ms/step - loss: 4.4087 - accuracy: 0.0516\n",
      "Epoch 16/100\n",
      "2/2 [==============================] - 0s 121ms/step - loss: 4.3828 - accuracy: 0.0735\n",
      "Epoch 17/100\n",
      "2/2 [==============================] - 0s 108ms/step - loss: 4.3647 - accuracy: 0.0683\n",
      "Epoch 18/100\n",
      "2/2 [==============================] - 0s 125ms/step - loss: 4.3782 - accuracy: 0.0657\n",
      "Epoch 19/100\n",
      "2/2 [==============================] - 0s 124ms/step - loss: 4.3627 - accuracy: 0.0709\n",
      "Epoch 20/100\n",
      "2/2 [==============================] - 0s 112ms/step - loss: 4.3620 - accuracy: 0.0709\n",
      "Epoch 21/100\n",
      "2/2 [==============================] - 0s 127ms/step - loss: 4.3169 - accuracy: 0.0787\n",
      "Epoch 22/100\n",
      "2/2 [==============================] - 0s 131ms/step - loss: 4.3275 - accuracy: 0.0735\n",
      "Epoch 23/100\n",
      "2/2 [==============================] - 0s 102ms/step - loss: 4.3670 - accuracy: 0.0683\n",
      "Epoch 24/100\n",
      "2/2 [==============================] - 0s 110ms/step - loss: 4.3231 - accuracy: 0.0735\n",
      "Epoch 25/100\n",
      "2/2 [==============================] - 0s 119ms/step - loss: 4.3201 - accuracy: 0.0787\n",
      "Epoch 26/100\n",
      "2/2 [==============================] - 0s 113ms/step - loss: 4.3062 - accuracy: 0.0813\n",
      "Epoch 27/100\n",
      "2/2 [==============================] - 0s 131ms/step - loss: 4.3050 - accuracy: 0.0813\n",
      "Epoch 28/100\n",
      "2/2 [==============================] - 0s 97ms/step - loss: 4.3302 - accuracy: 0.0735\n",
      "Epoch 29/100\n",
      "2/2 [==============================] - 0s 104ms/step - loss: 4.3242 - accuracy: 0.0735\n",
      "Epoch 30/100\n",
      "2/2 [==============================] - 0s 115ms/step - loss: 4.3129 - accuracy: 0.0761\n",
      "Epoch 31/100\n",
      "2/2 [==============================] - 0s 107ms/step - loss: 4.3290 - accuracy: 0.0709\n",
      "Epoch 32/100\n",
      "2/2 [==============================] - 0s 103ms/step - loss: 4.2870 - accuracy: 0.0787\n",
      "Epoch 33/100\n",
      "2/2 [==============================] - 0s 118ms/step - loss: 4.3149 - accuracy: 0.0761\n",
      "Epoch 34/100\n",
      "2/2 [==============================] - 0s 106ms/step - loss: 4.2956 - accuracy: 0.0813\n",
      "Epoch 35/100\n",
      "2/2 [==============================] - 0s 118ms/step - loss: 4.3165 - accuracy: 0.0735\n",
      "Epoch 36/100\n",
      "2/2 [==============================] - 0s 109ms/step - loss: 4.3152 - accuracy: 0.0709\n",
      "Epoch 37/100\n",
      "2/2 [==============================] - 0s 128ms/step - loss: 4.2985 - accuracy: 0.0787\n",
      "Epoch 38/100\n",
      "2/2 [==============================] - 0s 118ms/step - loss: 4.3017 - accuracy: 0.0787\n",
      "Epoch 39/100\n",
      "2/2 [==============================] - 0s 115ms/step - loss: 4.3134 - accuracy: 0.0735\n",
      "Epoch 40/100\n",
      "2/2 [==============================] - 0s 140ms/step - loss: 4.2896 - accuracy: 0.0813\n",
      "Epoch 41/100\n",
      "2/2 [==============================] - 0s 131ms/step - loss: 4.2990 - accuracy: 0.0761\n",
      "Epoch 42/100\n",
      "2/2 [==============================] - 0s 124ms/step - loss: 4.3023 - accuracy: 0.0735\n",
      "Epoch 43/100\n",
      "2/2 [==============================] - 0s 124ms/step - loss: 4.3004 - accuracy: 0.0761\n",
      "Epoch 44/100\n",
      "2/2 [==============================] - 0s 122ms/step - loss: 4.2987 - accuracy: 0.0709\n",
      "Epoch 45/100\n",
      "2/2 [==============================] - 0s 120ms/step - loss: 4.3013 - accuracy: 0.0787\n",
      "Epoch 46/100\n",
      "2/2 [==============================] - 0s 106ms/step - loss: 4.3037 - accuracy: 0.0761\n",
      "Epoch 47/100\n",
      "2/2 [==============================] - 0s 107ms/step - loss: 4.3153 - accuracy: 0.0683\n",
      "Epoch 48/100\n",
      "2/2 [==============================] - 0s 115ms/step - loss: 4.3003 - accuracy: 0.0735\n",
      "Epoch 49/100\n",
      "2/2 [==============================] - 0s 117ms/step - loss: 4.3175 - accuracy: 0.0761\n",
      "Epoch 50/100\n",
      "2/2 [==============================] - 0s 107ms/step - loss: 4.3165 - accuracy: 0.0709\n",
      "Epoch 51/100\n",
      "2/2 [==============================] - 0s 113ms/step - loss: 4.3010 - accuracy: 0.0761\n",
      "Epoch 52/100\n",
      "2/2 [==============================] - 0s 135ms/step - loss: 4.3084 - accuracy: 0.0683\n",
      "Epoch 53/100\n",
      "2/2 [==============================] - 0s 116ms/step - loss: 4.2946 - accuracy: 0.0787\n",
      "Epoch 54/100\n",
      "2/2 [==============================] - 0s 121ms/step - loss: 4.2657 - accuracy: 0.0787\n",
      "Epoch 55/100\n",
      "2/2 [==============================] - 0s 130ms/step - loss: 4.2968 - accuracy: 0.0787\n",
      "Epoch 56/100\n",
      "2/2 [==============================] - 0s 107ms/step - loss: 4.2976 - accuracy: 0.0813\n",
      "Epoch 57/100\n",
      "2/2 [==============================] - 0s 122ms/step - loss: 4.3059 - accuracy: 0.0761\n",
      "Epoch 58/100\n",
      "2/2 [==============================] - 0s 143ms/step - loss: 4.3147 - accuracy: 0.0761\n",
      "Epoch 59/100\n",
      "2/2 [==============================] - 0s 134ms/step - loss: 4.3103 - accuracy: 0.0735\n",
      "Epoch 60/100\n",
      "2/2 [==============================] - 0s 122ms/step - loss: 4.3030 - accuracy: 0.0709\n",
      "Epoch 61/100\n",
      "2/2 [==============================] - 0s 105ms/step - loss: 4.2914 - accuracy: 0.0709\n",
      "Epoch 62/100\n",
      "2/2 [==============================] - 0s 109ms/step - loss: 4.2943 - accuracy: 0.0761\n",
      "Epoch 63/100\n",
      "2/2 [==============================] - 0s 120ms/step - loss: 4.3047 - accuracy: 0.0761\n",
      "Epoch 64/100\n",
      "2/2 [==============================] - 0s 121ms/step - loss: 4.2804 - accuracy: 0.0813\n",
      "Epoch 65/100\n",
      "2/2 [==============================] - 0s 113ms/step - loss: 4.2748 - accuracy: 0.0787\n",
      "Epoch 66/100\n",
      "2/2 [==============================] - 0s 110ms/step - loss: 4.2852 - accuracy: 0.0735\n",
      "Epoch 67/100\n",
      "2/2 [==============================] - 0s 124ms/step - loss: 4.2644 - accuracy: 0.0709\n",
      "Epoch 68/100\n",
      "2/2 [==============================] - 0s 110ms/step - loss: 4.2863 - accuracy: 0.0787\n",
      "Epoch 69/100\n",
      "2/2 [==============================] - 0s 111ms/step - loss: 4.2660 - accuracy: 0.0761\n",
      "Epoch 70/100\n",
      "2/2 [==============================] - 0s 152ms/step - loss: 4.2819 - accuracy: 0.0735\n",
      "Epoch 71/100\n",
      "2/2 [==============================] - 0s 118ms/step - loss: 4.2307 - accuracy: 0.0761\n",
      "Epoch 72/100\n",
      "2/2 [==============================] - 0s 164ms/step - loss: 4.2313 - accuracy: 0.0787\n",
      "Epoch 73/100\n",
      "2/2 [==============================] - 0s 109ms/step - loss: 4.2261 - accuracy: 0.0735\n",
      "Epoch 74/100\n",
      "2/2 [==============================] - 0s 121ms/step - loss: 4.2198 - accuracy: 0.0735\n",
      "Epoch 75/100\n",
      "2/2 [==============================] - 0s 123ms/step - loss: 4.1914 - accuracy: 0.0813\n",
      "Epoch 76/100\n",
      "2/2 [==============================] - 0s 112ms/step - loss: 4.1988 - accuracy: 0.0838\n",
      "Epoch 77/100\n",
      "2/2 [==============================] - 0s 151ms/step - loss: 4.1963 - accuracy: 0.0929\n",
      "Epoch 78/100\n",
      "2/2 [==============================] - 0s 124ms/step - loss: 4.1665 - accuracy: 0.0917\n",
      "Epoch 79/100\n",
      "2/2 [==============================] - 0s 118ms/step - loss: 4.1270 - accuracy: 0.0955\n",
      "Epoch 80/100\n",
      "2/2 [==============================] - 0s 115ms/step - loss: 4.1213 - accuracy: 0.0891\n",
      "Epoch 81/100\n",
      "2/2 [==============================] - 0s 109ms/step - loss: 4.1246 - accuracy: 0.0929\n",
      "Epoch 82/100\n",
      "2/2 [==============================] - 0s 103ms/step - loss: 4.1180 - accuracy: 0.0877\n",
      "Epoch 83/100\n"
     ]
    },
    {
     "name": "stdout",
     "output_type": "stream",
     "text": [
      "2/2 [==============================] - 0s 114ms/step - loss: 4.0837 - accuracy: 0.0851\n",
      "Epoch 84/100\n",
      "2/2 [==============================] - 0s 102ms/step - loss: 4.0794 - accuracy: 0.0903\n",
      "Epoch 85/100\n",
      "2/2 [==============================] - 0s 117ms/step - loss: 4.0553 - accuracy: 0.0851\n",
      "Epoch 86/100\n",
      "2/2 [==============================] - 0s 110ms/step - loss: 4.0167 - accuracy: 0.0877\n",
      "Epoch 87/100\n",
      "2/2 [==============================] - 0s 125ms/step - loss: 4.0182 - accuracy: 0.0851\n",
      "Epoch 88/100\n",
      "2/2 [==============================] - 0s 121ms/step - loss: 3.9608 - accuracy: 0.0981\n",
      "Epoch 89/100\n",
      "2/2 [==============================] - 0s 125ms/step - loss: 3.9602 - accuracy: 0.0903\n",
      "Epoch 90/100\n",
      "2/2 [==============================] - 0s 120ms/step - loss: 3.9176 - accuracy: 0.0864\n",
      "Epoch 91/100\n",
      "2/2 [==============================] - 0s 123ms/step - loss: 3.9038 - accuracy: 0.0903\n",
      "Epoch 92/100\n",
      "2/2 [==============================] - 0s 109ms/step - loss: 3.8636 - accuracy: 0.0955\n",
      "Epoch 93/100\n",
      "2/2 [==============================] - 0s 111ms/step - loss: 3.8738 - accuracy: 0.0851\n",
      "Epoch 94/100\n",
      "2/2 [==============================] - 0s 113ms/step - loss: 3.8277 - accuracy: 0.1007\n",
      "Epoch 95/100\n",
      "2/2 [==============================] - 0s 125ms/step - loss: 3.8021 - accuracy: 0.1007\n",
      "Epoch 96/100\n",
      "2/2 [==============================] - 0s 133ms/step - loss: 3.7929 - accuracy: 0.0786\n",
      "Epoch 97/100\n",
      "2/2 [==============================] - 0s 105ms/step - loss: 3.7575 - accuracy: 0.0903\n",
      "Epoch 98/100\n",
      "2/2 [==============================] - 0s 109ms/step - loss: 3.7271 - accuracy: 0.0955\n",
      "Epoch 99/100\n",
      "2/2 [==============================] - 0s 119ms/step - loss: 3.6959 - accuracy: 0.0981\n",
      "Epoch 100/100\n",
      "2/2 [==============================] - 0s 117ms/step - loss: 3.6765 - accuracy: 0.1110\n"
     ]
    },
    {
     "data": {
      "text/plain": [
       "<tensorflow.python.keras.callbacks.History at 0x2771aa03fa0>"
      ]
     },
     "execution_count": 28,
     "metadata": {},
     "output_type": "execute_result"
    }
   ],
   "source": [
    "model.compile(loss='categorical_crossentropy', optimizer='adam', metrics=['accuracy'])\n",
    "model.fit(X, y, batch_size=128, epochs=100)"
   ]
  },
  {
   "cell_type": "code",
   "execution_count": 31,
   "metadata": {},
   "outputs": [],
   "source": [
    "import pickle\n",
    "model.save('model.h5')\n",
    "pickle.dump(tokenizer, open('tokenizer.pkl', 'wb'))"
   ]
  },
  {
   "cell_type": "code",
   "execution_count": null,
   "metadata": {},
   "outputs": [],
   "source": []
  }
 ],
 "metadata": {
  "kernelspec": {
   "display_name": "Python 3",
   "language": "python",
   "name": "python3"
  },
  "language_info": {
   "codemirror_mode": {
    "name": "ipython",
    "version": 3
   },
   "file_extension": ".py",
   "mimetype": "text/x-python",
   "name": "python",
   "nbconvert_exporter": "python",
   "pygments_lexer": "ipython3",
   "version": "3.8.5"
  }
 },
 "nbformat": 4,
 "nbformat_minor": 4
}
